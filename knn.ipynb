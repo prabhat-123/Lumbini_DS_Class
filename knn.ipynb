{
 "cells": [
  {
   "cell_type": "markdown",
   "id": "e1f9a4ab",
   "metadata": {},
   "source": [
    "# KNN Algorithm\n",
    "\n",
    "<li>The KNearest Neighbor(KNN) algorithm is a type of supervised Learning used for classification and regression</li>\n",
    "<li>This algorithm considers the K closest neighbors to predict the class or continuous value for a new datapoint.</li>\n",
    "<li>KNN is a non parametric and an instance-based learning algorithm.</li>\n",
    "<li>Instead of learning the weights from training data, it memorizes the entire training instances to predict the output for new data.</li>\n",
    "<li>KNN has additional applications such as imputing missing values and resampling datasets.</li>\n",
    "<li>KNN algorithm is considered lazy learning because the learning process is postponed until prediction is requested on the new instance.</li>"
   ]
  },
  {
   "cell_type": "markdown",
   "id": "f6a32b31",
   "metadata": {},
   "source": [
    "## How KNN works?\n",
    "\n",
    "<li>The working of KNN is explained in the following steps:</li>\n",
    "<ol>\n",
    "    <li>Compute <b>similarity metric</b> for a new test case from the group of items.</li>\n",
    "    <li>Rank each listing by the similarity metric and select the top <b>k</b> listings with respect to the test case.</li>\n",
    "    <li>Calculate the average of top <b>k</b> items or mode of top n items based on the problem statement and return it as a prediction.</li>\n",
    "</ol>"
   ]
  },
  {
   "cell_type": "markdown",
   "id": "ae5fb4f5",
   "metadata": {},
   "source": [
    "## Parameters Of KNN Algorithm\n",
    "\n",
    "<li>There are two things we need to choose prior to applying KNN algorithm. They are:</li>\n",
    "<ol>\n",
    "    <li>Choice of similarity metric</li>\n",
    "    <li>Choosing appropriate value of k</li>\n",
    "</ol>"
   ]
  },
  {
   "cell_type": "markdown",
   "id": "393e6f41",
   "metadata": {},
   "source": [
    "## Similarity Metric\n",
    "\n",
    "<li>The KNN algorithm offers a variety of similarity metrics (distance metrics) to choose from. Some of them are:</li>\n",
    "<ol>\n",
    "    <li>Minkowski distance</li>\n",
    "    <li>Manhattan distance</li>\n",
    "    <li>Euclidean distance</li>\n",
    "    <li>Cosine similarity</li>\n",
    "    <li>Jaccard similarity</li>\n",
    "<ol>\n",
    "        "
   ]
  },
  {
   "cell_type": "markdown",
   "id": "38794910",
   "metadata": {},
   "source": [
    "### Minkowski Distance\n",
    "<li>Minkowski distance is a distance/ similarity measurement between two points in the normed vector space (N dimensional real space)</li>\n",
    "<li>It is a generalization of the Euclidean distance and the Manhattan distance.</li>\n",
    "<li>It is given by the formula:</li>\n",
    "\n",
    "![](images/minoski_distance.png)\n",
    "\n"
   ]
  },
  {
   "cell_type": "markdown",
   "id": "84a5ec6a",
   "metadata": {},
   "source": [
    "### Manhattan Distance\n",
    "\n",
    "<li>Manhattan distance is a distance measure that is calculated by taking the sum of distances between the x and y coordinates.</li>\n",
    "<li>We can derive the formula to compute manhattan distance from minkowski distance formula.</li>\n",
    "<li>When we substitute the value for p=1, then we get the formula to compute manhattan distance.</li>\n",
    "<li>The formula to compute Manhattan distance is given by:</li>\n",
    "\n",
    "![](images/manhattan_dist.jpg)"
   ]
  },
  {
   "cell_type": "markdown",
   "id": "d37b6f70",
   "metadata": {},
   "source": [
    "### Euclidean Distance\n",
    "<li>Euclidean distance is a distance measure that is calculated by taking the square root of the sum of squared distances between the x and y coordinates.</li>\n",
    "<li>We can also derive the formula to compute euclidean distance from minkowski distance formula.</li>\n",
    "<li>When we substitute the value for p=2, then we get the formula to compute euclidean distance.</li>\n",
    "<li>The formula to compute Euclidean distance is given by:</li>\n",
    "\n",
    "![](images/euclidean_dist.jpg)"
   ]
  },
  {
   "cell_type": "markdown",
   "id": "6d1a82d7",
   "metadata": {},
   "source": [
    "### How To Choose Appropriate Value Of K\n",
    "\n",
    "<li>K is a crucial parameter in the KNN algorithm.Some suggestions for choosing K Value are:</li>\n",
    "<li>K value should be odd while considering binary(two-class) classification.</li>\n",
    "<li>There are no pre-defined statistical methods to find the appropriate value of K.</li>\n",
    "<li>Initialize a random K value and start computing.</li>\n",
    "<li>Choosing a small value of K leads to unstable decision boundaries.</li>\n",
    "<li>The optimal K value usually found is the square root of N, where N is the total number of samples.</li>\n",
    "<li>The substantial K value is better for classification as it leads to smoothening the decision boundaries.</li>\n",
    "<li>Domain knowledge can be very useful in choosing the K value.</li>\n",
    "<li>Derive a plot between error and K denoting values in a defined range. Then choose the K value as having a minimum error.</li>\n",
    "\n"
   ]
  },
  {
   "cell_type": "markdown",
   "id": "906e0696",
   "metadata": {},
   "source": [
    "### Data Preparation For Applying KNN\n",
    "\n",
    "<b>1. Feature Scaling:</b>\n",
    "<li>The first step in data preparation is to perform data scaling.</li>\n",
    "<li>This is done to ensure that all features are on the same scale, which is important for locating data points in a multidimensional feature space.</li>\n",
    "<li>Normalization or standardization techniques can be used to achieve this goal.</li>\n",
    "<li>By scaling the data, it becomes easier to compare and analyze the features and ensure that the KNN algorithm can accurately identify the nearest neighbors.</li>\n",
    "\n",
    "<b>2. Dimensionality Reduction:</b>\n",
    "<li>KNN may not work well if there are too many features.</li>\n",
    "<li>Hence dimensionality reduction techniques like feature selection, principal component analysis can be implemented.</li>\n",
    "\n",
    "<b>3. Missing value treatment:</b>\n",
    "<li>If out of M features one feature data is missing for a particular example in the training set then we cannot locate or calculate distance from that point.</li>\n",
    "<li>Therefore deleting that row or imputation is required.</li>"
   ]
  },
  {
   "cell_type": "markdown",
   "id": "287b4ab3",
   "metadata": {},
   "source": [
    "### KNN For Classification\n",
    "\n",
    "<li>Suppose, we have a binary classification problems with two class; <b>Class A(red star)</b> and <b>Class B(green triangle)</b>.</li>\n",
    "<li>Let us suppose, we wanted to classify a new data point which is represented as <b>'?'</b> in the figure.</li>\n",
    "\n",
    "\n",
    "![](images/knn_classifier1.png)"
   ]
  },
  {
   "cell_type": "markdown",
   "id": "47fc7e8c",
   "metadata": {},
   "source": [
    "![](images/knn_classifier2.png)\n",
    "\n",
    "<li>Then we will compute the distance from the new data point to all possible data points we have in our training set.</li>\n",
    "<li>We can compute any distance metrics; euclidean or manhattan distance and then rank the similarity based on their distance metrics.</li>"
   ]
  },
  {
   "cell_type": "markdown",
   "id": "43a8a9df",
   "metadata": {},
   "source": [
    "![](images/knn_classifier3.png)\n",
    "\n",
    "<li>Once they are ranked, we will choose any value of <b>'k'</b>.</li>\n",
    "<li>Here, <b>k</b> denotes the number of nearest neigbours we are going to look for inorder to predict the new test data.</li>\n",
    "<li>If <b>k=3</b> then, we will look into the 3 nearest neighbors with the smallest distance to the test data.</li>\n",
    "<li>Then we will assign the newly test data with a class which occurs most often among the nearest neighbors.</li>\n",
    "<li>In the figure, out of 3 nearest neighbors, two of them belong to 'Class B' so we assign the newly test data with 'Class B'.</li>"
   ]
  },
  {
   "cell_type": "markdown",
   "id": "99552d42",
   "metadata": {},
   "source": [
    "![](images/knn_classifier4.png)\n",
    "\n",
    "<li>But when k=7, we will look for 7 nearest neighbors inorder to classify the new test data.</li>\n",
    "<li>In the figure, out of 4 nearest neighbors, 4 of them belong to 'Class A' and 3 of them belong to 'Class B'.</li>\n",
    "<li>Based on majority vote counting, we assign the new test data with 'Class A'.</li>"
   ]
  },
  {
   "cell_type": "code",
   "execution_count": 1,
   "id": "2fa9b798",
   "metadata": {},
   "outputs": [],
   "source": [
    "import pandas as pd"
   ]
  },
  {
   "cell_type": "code",
   "execution_count": 2,
   "id": "6cdb3977",
   "metadata": {},
   "outputs": [
    {
     "name": "stdout",
     "output_type": "stream",
     "text": [
      "(150, 6)\n"
     ]
    },
    {
     "data": {
      "text/html": [
       "<div>\n",
       "<style scoped>\n",
       "    .dataframe tbody tr th:only-of-type {\n",
       "        vertical-align: middle;\n",
       "    }\n",
       "\n",
       "    .dataframe tbody tr th {\n",
       "        vertical-align: top;\n",
       "    }\n",
       "\n",
       "    .dataframe thead th {\n",
       "        text-align: right;\n",
       "    }\n",
       "</style>\n",
       "<table border=\"1\" class=\"dataframe\">\n",
       "  <thead>\n",
       "    <tr style=\"text-align: right;\">\n",
       "      <th></th>\n",
       "      <th>Id</th>\n",
       "      <th>SepalLengthCm</th>\n",
       "      <th>SepalWidthCm</th>\n",
       "      <th>PetalLengthCm</th>\n",
       "      <th>PetalWidthCm</th>\n",
       "      <th>Species</th>\n",
       "    </tr>\n",
       "  </thead>\n",
       "  <tbody>\n",
       "    <tr>\n",
       "      <th>0</th>\n",
       "      <td>1</td>\n",
       "      <td>5.1</td>\n",
       "      <td>3.5</td>\n",
       "      <td>1.4</td>\n",
       "      <td>0.2</td>\n",
       "      <td>Iris-setosa</td>\n",
       "    </tr>\n",
       "    <tr>\n",
       "      <th>1</th>\n",
       "      <td>2</td>\n",
       "      <td>4.9</td>\n",
       "      <td>3.0</td>\n",
       "      <td>1.4</td>\n",
       "      <td>0.2</td>\n",
       "      <td>Iris-setosa</td>\n",
       "    </tr>\n",
       "    <tr>\n",
       "      <th>2</th>\n",
       "      <td>3</td>\n",
       "      <td>4.7</td>\n",
       "      <td>3.2</td>\n",
       "      <td>1.3</td>\n",
       "      <td>0.2</td>\n",
       "      <td>Iris-setosa</td>\n",
       "    </tr>\n",
       "    <tr>\n",
       "      <th>3</th>\n",
       "      <td>4</td>\n",
       "      <td>4.6</td>\n",
       "      <td>3.1</td>\n",
       "      <td>1.5</td>\n",
       "      <td>0.2</td>\n",
       "      <td>Iris-setosa</td>\n",
       "    </tr>\n",
       "    <tr>\n",
       "      <th>4</th>\n",
       "      <td>5</td>\n",
       "      <td>5.0</td>\n",
       "      <td>3.6</td>\n",
       "      <td>1.4</td>\n",
       "      <td>0.2</td>\n",
       "      <td>Iris-setosa</td>\n",
       "    </tr>\n",
       "  </tbody>\n",
       "</table>\n",
       "</div>"
      ],
      "text/plain": [
       "   Id  SepalLengthCm  SepalWidthCm  PetalLengthCm  PetalWidthCm      Species\n",
       "0   1            5.1           3.5            1.4           0.2  Iris-setosa\n",
       "1   2            4.9           3.0            1.4           0.2  Iris-setosa\n",
       "2   3            4.7           3.2            1.3           0.2  Iris-setosa\n",
       "3   4            4.6           3.1            1.5           0.2  Iris-setosa\n",
       "4   5            5.0           3.6            1.4           0.2  Iris-setosa"
      ]
     },
     "execution_count": 2,
     "metadata": {},
     "output_type": "execute_result"
    }
   ],
   "source": [
    "df = pd.read_csv('csv_data/Iris.csv')\n",
    "print(df.shape)\n",
    "df.head()"
   ]
  },
  {
   "cell_type": "code",
   "execution_count": 3,
   "id": "45ae5b44",
   "metadata": {},
   "outputs": [
    {
     "data": {
      "text/html": [
       "<div>\n",
       "<style scoped>\n",
       "    .dataframe tbody tr th:only-of-type {\n",
       "        vertical-align: middle;\n",
       "    }\n",
       "\n",
       "    .dataframe tbody tr th {\n",
       "        vertical-align: top;\n",
       "    }\n",
       "\n",
       "    .dataframe thead th {\n",
       "        text-align: right;\n",
       "    }\n",
       "</style>\n",
       "<table border=\"1\" class=\"dataframe\">\n",
       "  <thead>\n",
       "    <tr style=\"text-align: right;\">\n",
       "      <th></th>\n",
       "      <th>SepalLengthCm</th>\n",
       "      <th>SepalWidthCm</th>\n",
       "      <th>PetalLengthCm</th>\n",
       "      <th>PetalWidthCm</th>\n",
       "      <th>Species</th>\n",
       "    </tr>\n",
       "  </thead>\n",
       "  <tbody>\n",
       "    <tr>\n",
       "      <th>0</th>\n",
       "      <td>5.1</td>\n",
       "      <td>3.5</td>\n",
       "      <td>1.4</td>\n",
       "      <td>0.2</td>\n",
       "      <td>Iris-setosa</td>\n",
       "    </tr>\n",
       "    <tr>\n",
       "      <th>1</th>\n",
       "      <td>4.9</td>\n",
       "      <td>3.0</td>\n",
       "      <td>1.4</td>\n",
       "      <td>0.2</td>\n",
       "      <td>Iris-setosa</td>\n",
       "    </tr>\n",
       "    <tr>\n",
       "      <th>2</th>\n",
       "      <td>4.7</td>\n",
       "      <td>3.2</td>\n",
       "      <td>1.3</td>\n",
       "      <td>0.2</td>\n",
       "      <td>Iris-setosa</td>\n",
       "    </tr>\n",
       "    <tr>\n",
       "      <th>3</th>\n",
       "      <td>4.6</td>\n",
       "      <td>3.1</td>\n",
       "      <td>1.5</td>\n",
       "      <td>0.2</td>\n",
       "      <td>Iris-setosa</td>\n",
       "    </tr>\n",
       "    <tr>\n",
       "      <th>4</th>\n",
       "      <td>5.0</td>\n",
       "      <td>3.6</td>\n",
       "      <td>1.4</td>\n",
       "      <td>0.2</td>\n",
       "      <td>Iris-setosa</td>\n",
       "    </tr>\n",
       "  </tbody>\n",
       "</table>\n",
       "</div>"
      ],
      "text/plain": [
       "   SepalLengthCm  SepalWidthCm  PetalLengthCm  PetalWidthCm      Species\n",
       "0            5.1           3.5            1.4           0.2  Iris-setosa\n",
       "1            4.9           3.0            1.4           0.2  Iris-setosa\n",
       "2            4.7           3.2            1.3           0.2  Iris-setosa\n",
       "3            4.6           3.1            1.5           0.2  Iris-setosa\n",
       "4            5.0           3.6            1.4           0.2  Iris-setosa"
      ]
     },
     "execution_count": 3,
     "metadata": {},
     "output_type": "execute_result"
    }
   ],
   "source": [
    "df.drop('Id', axis=1, inplace=True)\n",
    "df.head()"
   ]
  },
  {
   "cell_type": "markdown",
   "id": "1043b4f5",
   "metadata": {},
   "source": [
    "### Preparing Data"
   ]
  },
  {
   "cell_type": "code",
   "execution_count": 4,
   "id": "7f0008dd",
   "metadata": {},
   "outputs": [],
   "source": [
    "data = df.drop('Species', axis=1)\n",
    "labels = df['Species']"
   ]
  },
  {
   "cell_type": "code",
   "execution_count": 5,
   "id": "570e7ba5",
   "metadata": {},
   "outputs": [
    {
     "name": "stdout",
     "output_type": "stream",
     "text": [
      "(150, 4)\n",
      "(150,)\n"
     ]
    }
   ],
   "source": [
    "print(data.shape)\n",
    "print(labels.shape)"
   ]
  },
  {
   "cell_type": "code",
   "execution_count": 6,
   "id": "35876d6b",
   "metadata": {},
   "outputs": [],
   "source": [
    "from sklearn.model_selection import train_test_split"
   ]
  },
  {
   "cell_type": "code",
   "execution_count": 7,
   "id": "ef8b3585",
   "metadata": {},
   "outputs": [],
   "source": [
    "x_train, x_test, y_train, y_test = train_test_split(data, labels,\n",
    "                                                   test_size=0.2,\n",
    "                                                   random_state = 42, \n",
    "                                                   stratify = labels)"
   ]
  },
  {
   "cell_type": "code",
   "execution_count": 8,
   "id": "cbbac663",
   "metadata": {},
   "outputs": [
    {
     "name": "stdout",
     "output_type": "stream",
     "text": [
      "(120, 4)\n",
      "(30, 4)\n",
      "(120,)\n",
      "(30,)\n"
     ]
    }
   ],
   "source": [
    "print(x_train.shape)\n",
    "print(x_test.shape)\n",
    "print(y_train.shape)\n",
    "print(y_test.shape)"
   ]
  },
  {
   "cell_type": "code",
   "execution_count": null,
   "id": "f8e64f76",
   "metadata": {},
   "outputs": [],
   "source": []
  },
  {
   "cell_type": "markdown",
   "id": "49cfeb46",
   "metadata": {},
   "source": [
    "### Feature Scaling"
   ]
  },
  {
   "cell_type": "code",
   "execution_count": 9,
   "id": "4e0a5e66",
   "metadata": {},
   "outputs": [],
   "source": [
    "from sklearn.preprocessing import StandardScaler"
   ]
  },
  {
   "cell_type": "code",
   "execution_count": 10,
   "id": "5da5f0f0",
   "metadata": {},
   "outputs": [],
   "source": [
    "scaler = StandardScaler()\n",
    "scaled_x_train = scaler.fit_transform(x_train)\n",
    "scaled_x_test = scaler.transform(x_test)"
   ]
  },
  {
   "cell_type": "code",
   "execution_count": 11,
   "id": "58a2447c",
   "metadata": {},
   "outputs": [
    {
     "data": {
      "text/plain": [
       "array([[-1.72156775, -0.32483982, -1.34703555, -1.32016847],\n",
       "       [-1.12449223, -1.22612948,  0.41429037,  0.65186742],\n",
       "       [ 1.14439475, -0.55016223,  0.58474127,  0.25746024],\n",
       "       [-1.12449223,  0.12580502, -1.29021859, -1.45163753],\n",
       "       [-0.40800161, -1.22612948,  0.13020555,  0.12599118],\n",
       "       [ 0.54731923, -1.22612948,  0.6983752 ,  0.91480554],\n",
       "       [-0.2885865 , -0.77548465,  0.24383948,  0.12599118],\n",
       "       [ 0.54731923, -0.55016223,  0.75519216,  0.3889293 ],\n",
       "       [ 2.21913069, -0.0995174 ,  1.32336182,  1.44068178],\n",
       "       [ 2.21913069,  1.70306192,  1.66426361,  1.30921272],\n",
       "       [ 2.09971558, -0.0995174 ,  1.60744665,  1.17774366],\n",
       "       [ 0.18907392, -0.32483982,  0.41429037,  0.3889293 ],\n",
       "       [-1.00507713, -2.35274155, -0.15387928, -0.268416  ],\n",
       "       [-0.04975629, -0.77548465,  0.18702251, -0.268416  ],\n",
       "       [-0.04975629, -1.00080706,  0.13020555, -0.00547788],\n",
       "       [-1.36332244,  0.35112743, -1.23340162, -1.32016847],\n",
       "       [-0.88566202,  1.70306192, -1.29021859, -1.18869941],\n",
       "       [ 1.02497964, -1.22612948,  1.15291092,  0.78333648],\n",
       "       [ 0.66673433,  0.12580502,  0.98246003,  0.78333648],\n",
       "       [-0.52741671,  0.80177226, -1.29021859, -1.05723035],\n",
       "       [ 0.54731923, -1.22612948,  0.64155823,  0.3889293 ],\n",
       "       [-0.88566202,  1.70306192, -1.23340162, -1.32016847],\n",
       "       [ 2.4579609 ,  1.70306192,  1.49381271,  1.0462746 ],\n",
       "       [-1.00507713, -0.0995174 , -1.23340162, -1.32016847],\n",
       "       [-0.40800161, -1.45145189, -0.04024535, -0.268416  ],\n",
       "       [ 0.54731923, -0.32483982,  1.03927699,  0.78333648],\n",
       "       [ 0.66673433, -0.77548465,  0.8688261 ,  0.91480554],\n",
       "       [-1.00507713,  0.80177226, -1.23340162, -1.05723035],\n",
       "       [-0.2885865 , -0.55016223,  0.64155823,  1.0462746 ],\n",
       "       [-1.00507713,  1.02709468, -1.40385252, -1.18869941],\n",
       "       [-0.88566202,  1.47773951, -1.29021859, -1.05723035],\n",
       "       [ 0.30848902, -0.55016223,  0.13020555,  0.12599118],\n",
       "       [ 0.30848902, -0.0995174 ,  0.47110734,  0.25746024],\n",
       "       [-0.1691714 ,  3.05499641, -1.29021859, -1.05723035],\n",
       "       [ 1.26380985,  0.12580502,  0.92564306,  1.17774366],\n",
       "       [ 0.42790412,  0.80177226,  0.92564306,  1.44068178],\n",
       "       [-0.1691714 , -1.00080706, -0.15387928, -0.268416  ],\n",
       "       [-0.76624692, -0.77548465,  0.07338858,  0.25746024],\n",
       "       [ 1.02497964,  0.57644985,  1.09609396,  1.7036199 ],\n",
       "       [ 0.06965881,  0.35112743,  0.58474127,  0.78333648],\n",
       "       [-1.48273754,  0.80177226, -1.34703555, -1.18869941],\n",
       "       [ 1.38322496,  0.35112743,  0.5279243 ,  0.25746024],\n",
       "       [-0.52741671,  1.92838434, -1.40385252, -1.05723035],\n",
       "       [ 1.86088537, -0.55016223,  1.32336182,  0.91480554],\n",
       "       [-1.12449223, -0.0995174 , -1.34703555, -1.32016847],\n",
       "       [-0.88566202,  1.02709468, -1.34703555, -1.18869941],\n",
       "       [-0.04975629, -0.77548465,  0.75519216,  0.91480554],\n",
       "       [-1.00507713,  0.35112743, -1.46066949, -1.32016847],\n",
       "       [-1.60215265, -1.67677431, -1.40385252, -1.18869941],\n",
       "       [-1.24390734, -0.0995174 , -1.34703555, -1.45163753],\n",
       "       [-1.24390734, -0.0995174 , -1.34703555, -1.18869941],\n",
       "       [-0.2885865 , -0.32483982, -0.09706232,  0.12599118],\n",
       "       [ 0.54731923,  0.57644985,  1.26654485,  1.7036199 ],\n",
       "       [-0.1691714 , -0.55016223,  0.41429037,  0.12599118],\n",
       "       [-0.88566202,  1.02709468, -1.34703555, -1.32016847],\n",
       "       [ 0.06965881, -0.0995174 ,  0.75519216,  0.78333648],\n",
       "       [-0.1691714 , -0.55016223,  0.18702251,  0.12599118],\n",
       "       [ 0.54731923,  0.80177226,  1.03927699,  1.57215084],\n",
       "       [-1.48273754,  0.35112743, -1.34703555, -1.32016847],\n",
       "       [-0.04975629, -0.77548465,  0.75519216,  0.91480554],\n",
       "       [-0.40800161,  1.02709468, -1.40385252, -1.32016847],\n",
       "       [-0.40800161, -1.67677431,  0.13020555,  0.12599118],\n",
       "       [-0.1691714 , -1.22612948,  0.6983752 ,  1.0462746 ],\n",
       "       [-1.24390734,  0.80177226, -1.06295073, -1.32016847],\n",
       "       [ 0.18907392, -0.77548465,  0.75519216,  0.52039836],\n",
       "       [-0.40800161, -1.00080706,  0.35747341, -0.00547788],\n",
       "       [ 2.21913069, -0.55016223,  1.66426361,  1.0462746 ],\n",
       "       [-0.2885865 , -0.0995174 ,  0.41429037,  0.3889293 ],\n",
       "       [ 0.78614944, -0.55016223,  0.47110734,  0.3889293 ],\n",
       "       [ 0.66673433,  0.35112743,  0.8688261 ,  1.44068178],\n",
       "       [-0.88566202,  0.80177226, -1.29021859, -1.32016847],\n",
       "       [-0.88566202,  0.57644985, -1.17658466, -0.92576129],\n",
       "       [-1.00507713,  1.25241709, -1.34703555, -1.32016847],\n",
       "       [ 0.18907392, -1.90209672,  0.6983752 ,  0.3889293 ],\n",
       "       [-0.04975629, -0.77548465,  0.07338858, -0.00547788],\n",
       "       [ 1.62205517, -0.0995174 ,  1.15291092,  0.52039836],\n",
       "       [-0.40800161, -1.45145189,  0.01657161, -0.13694694],\n",
       "       [ 1.02497964, -0.0995174 ,  0.81200913,  1.44068178],\n",
       "       [ 0.54731923, -0.77548465,  0.64155823,  0.78333648],\n",
       "       [ 0.18907392,  0.80177226,  0.41429037,  0.52039836],\n",
       "       [-1.12449223,  0.12580502, -1.29021859, -1.45163753],\n",
       "       [-0.04975629, -0.55016223,  0.75519216,  1.57215084],\n",
       "       [ 0.42790412, -1.90209672,  0.41429037,  0.3889293 ],\n",
       "       [-1.00507713,  1.02709468, -1.23340162, -0.79429223],\n",
       "       [ 1.26380985,  0.35112743,  1.09609396,  1.44068178],\n",
       "       [-0.76624692,  2.37902917, -1.29021859, -1.45163753],\n",
       "       [ 1.62205517,  1.25241709,  1.32336182,  1.7036199 ],\n",
       "       [-0.88566202, -1.22612948, -0.43796411, -0.13694694],\n",
       "       [ 1.02497964,  0.12580502,  0.5279243 ,  0.3889293 ],\n",
       "       [-1.24390734,  0.12580502, -1.23340162, -1.32016847],\n",
       "       [ 0.42790412, -0.32483982,  0.30065644,  0.12599118],\n",
       "       [ 0.78614944,  0.35112743,  0.75519216,  1.0462746 ],\n",
       "       [-0.88566202,  1.70306192, -1.06295073, -1.05723035],\n",
       "       [-1.84098286, -0.0995174 , -1.51748645, -1.45163753],\n",
       "       [ 1.02497964,  0.57644985,  1.09609396,  1.17774366],\n",
       "       [ 2.21913069, -1.00080706,  1.77789754,  1.44068178],\n",
       "       [ 1.14439475, -0.0995174 ,  0.98246003,  1.17774366],\n",
       "       [ 0.54731923, -1.67677431,  0.35747341,  0.12599118],\n",
       "       [ 0.42790412, -0.55016223,  0.58474127,  0.78333648],\n",
       "       [-0.52741671,  1.92838434, -1.17658466, -1.05723035],\n",
       "       [ 1.14439475,  0.35112743,  1.20972789,  1.44068178],\n",
       "       [-0.1691714 , -0.32483982,  0.24383948,  0.12599118],\n",
       "       [ 1.62205517,  0.35112743,  1.26654485,  0.78333648],\n",
       "       [ 1.50264006, -0.0995174 ,  1.20972789,  1.17774366],\n",
       "       [-0.64683181,  1.47773951, -1.29021859, -1.32016847],\n",
       "       [ 0.66673433, -0.32483982,  0.30065644,  0.12599118],\n",
       "       [ 0.30848902, -0.55016223,  0.5279243 , -0.00547788],\n",
       "       [-0.1691714 , -0.0995174 ,  0.24383948, -0.00547788],\n",
       "       [-0.2885865 , -0.0995174 ,  0.18702251,  0.12599118],\n",
       "       [ 1.02497964,  0.12580502,  0.35747341,  0.25746024],\n",
       "       [-0.76624692,  1.02709468, -1.29021859, -1.32016847],\n",
       "       [ 0.66673433, -0.55016223,  1.03927699,  1.17774366],\n",
       "       [ 0.18907392, -1.90209672,  0.13020555, -0.268416  ],\n",
       "       [ 0.06965881, -0.0995174 ,  0.24383948,  0.3889293 ],\n",
       "       [-1.24390734,  0.80177226, -1.23340162, -1.32016847],\n",
       "       [-1.12449223,  0.12580502, -1.29021859, -1.45163753],\n",
       "       [-1.36332244,  0.35112743, -1.40385252, -1.32016847],\n",
       "       [-0.40800161,  2.60435158, -1.34703555, -1.32016847],\n",
       "       [ 1.26380985,  0.12580502,  0.64155823,  0.3889293 ],\n",
       "       [-1.48273754,  0.12580502, -1.29021859, -1.32016847]])"
      ]
     },
     "execution_count": 11,
     "metadata": {},
     "output_type": "execute_result"
    }
   ],
   "source": [
    "scaled_x_train"
   ]
  },
  {
   "cell_type": "code",
   "execution_count": 14,
   "id": "220699dc",
   "metadata": {},
   "outputs": [],
   "source": [
    "from sklearn.neighbors import KNeighborsClassifier"
   ]
  },
  {
   "cell_type": "code",
   "execution_count": 15,
   "id": "b3fda13d",
   "metadata": {},
   "outputs": [],
   "source": [
    "knn = KNeighborsClassifier(n_neighbors=3)\n"
   ]
  },
  {
   "cell_type": "code",
   "execution_count": 16,
   "id": "485fa25d",
   "metadata": {},
   "outputs": [
    {
     "data": {
      "text/html": [
       "<style>#sk-container-id-1 {color: black;background-color: white;}#sk-container-id-1 pre{padding: 0;}#sk-container-id-1 div.sk-toggleable {background-color: white;}#sk-container-id-1 label.sk-toggleable__label {cursor: pointer;display: block;width: 100%;margin-bottom: 0;padding: 0.3em;box-sizing: border-box;text-align: center;}#sk-container-id-1 label.sk-toggleable__label-arrow:before {content: \"▸\";float: left;margin-right: 0.25em;color: #696969;}#sk-container-id-1 label.sk-toggleable__label-arrow:hover:before {color: black;}#sk-container-id-1 div.sk-estimator:hover label.sk-toggleable__label-arrow:before {color: black;}#sk-container-id-1 div.sk-toggleable__content {max-height: 0;max-width: 0;overflow: hidden;text-align: left;background-color: #f0f8ff;}#sk-container-id-1 div.sk-toggleable__content pre {margin: 0.2em;color: black;border-radius: 0.25em;background-color: #f0f8ff;}#sk-container-id-1 input.sk-toggleable__control:checked~div.sk-toggleable__content {max-height: 200px;max-width: 100%;overflow: auto;}#sk-container-id-1 input.sk-toggleable__control:checked~label.sk-toggleable__label-arrow:before {content: \"▾\";}#sk-container-id-1 div.sk-estimator input.sk-toggleable__control:checked~label.sk-toggleable__label {background-color: #d4ebff;}#sk-container-id-1 div.sk-label input.sk-toggleable__control:checked~label.sk-toggleable__label {background-color: #d4ebff;}#sk-container-id-1 input.sk-hidden--visually {border: 0;clip: rect(1px 1px 1px 1px);clip: rect(1px, 1px, 1px, 1px);height: 1px;margin: -1px;overflow: hidden;padding: 0;position: absolute;width: 1px;}#sk-container-id-1 div.sk-estimator {font-family: monospace;background-color: #f0f8ff;border: 1px dotted black;border-radius: 0.25em;box-sizing: border-box;margin-bottom: 0.5em;}#sk-container-id-1 div.sk-estimator:hover {background-color: #d4ebff;}#sk-container-id-1 div.sk-parallel-item::after {content: \"\";width: 100%;border-bottom: 1px solid gray;flex-grow: 1;}#sk-container-id-1 div.sk-label:hover label.sk-toggleable__label {background-color: #d4ebff;}#sk-container-id-1 div.sk-serial::before {content: \"\";position: absolute;border-left: 1px solid gray;box-sizing: border-box;top: 0;bottom: 0;left: 50%;z-index: 0;}#sk-container-id-1 div.sk-serial {display: flex;flex-direction: column;align-items: center;background-color: white;padding-right: 0.2em;padding-left: 0.2em;position: relative;}#sk-container-id-1 div.sk-item {position: relative;z-index: 1;}#sk-container-id-1 div.sk-parallel {display: flex;align-items: stretch;justify-content: center;background-color: white;position: relative;}#sk-container-id-1 div.sk-item::before, #sk-container-id-1 div.sk-parallel-item::before {content: \"\";position: absolute;border-left: 1px solid gray;box-sizing: border-box;top: 0;bottom: 0;left: 50%;z-index: -1;}#sk-container-id-1 div.sk-parallel-item {display: flex;flex-direction: column;z-index: 1;position: relative;background-color: white;}#sk-container-id-1 div.sk-parallel-item:first-child::after {align-self: flex-end;width: 50%;}#sk-container-id-1 div.sk-parallel-item:last-child::after {align-self: flex-start;width: 50%;}#sk-container-id-1 div.sk-parallel-item:only-child::after {width: 0;}#sk-container-id-1 div.sk-dashed-wrapped {border: 1px dashed gray;margin: 0 0.4em 0.5em 0.4em;box-sizing: border-box;padding-bottom: 0.4em;background-color: white;}#sk-container-id-1 div.sk-label label {font-family: monospace;font-weight: bold;display: inline-block;line-height: 1.2em;}#sk-container-id-1 div.sk-label-container {text-align: center;}#sk-container-id-1 div.sk-container {/* jupyter's `normalize.less` sets `[hidden] { display: none; }` but bootstrap.min.css set `[hidden] { display: none !important; }` so we also need the `!important` here to be able to override the default hidden behavior on the sphinx rendered scikit-learn.org. See: https://github.com/scikit-learn/scikit-learn/issues/21755 */display: inline-block !important;position: relative;}#sk-container-id-1 div.sk-text-repr-fallback {display: none;}</style><div id=\"sk-container-id-1\" class=\"sk-top-container\"><div class=\"sk-text-repr-fallback\"><pre>KNeighborsClassifier(n_neighbors=3)</pre><b>In a Jupyter environment, please rerun this cell to show the HTML representation or trust the notebook. <br />On GitHub, the HTML representation is unable to render, please try loading this page with nbviewer.org.</b></div><div class=\"sk-container\" hidden><div class=\"sk-item\"><div class=\"sk-estimator sk-toggleable\"><input class=\"sk-toggleable__control sk-hidden--visually\" id=\"sk-estimator-id-1\" type=\"checkbox\" checked><label for=\"sk-estimator-id-1\" class=\"sk-toggleable__label sk-toggleable__label-arrow\">KNeighborsClassifier</label><div class=\"sk-toggleable__content\"><pre>KNeighborsClassifier(n_neighbors=3)</pre></div></div></div></div></div>"
      ],
      "text/plain": [
       "KNeighborsClassifier(n_neighbors=3)"
      ]
     },
     "execution_count": 16,
     "metadata": {},
     "output_type": "execute_result"
    }
   ],
   "source": [
    "knn.fit(scaled_x_train, y_train)"
   ]
  },
  {
   "cell_type": "code",
   "execution_count": 17,
   "id": "93cbfb9d",
   "metadata": {},
   "outputs": [],
   "source": [
    "predictions = knn.predict(scaled_x_test)"
   ]
  },
  {
   "cell_type": "code",
   "execution_count": 18,
   "id": "142223bb",
   "metadata": {},
   "outputs": [
    {
     "name": "stdout",
     "output_type": "stream",
     "text": [
      "['Iris-setosa' 'Iris-virginica' 'Iris-versicolor' 'Iris-versicolor'\n",
      " 'Iris-setosa' 'Iris-versicolor' 'Iris-setosa' 'Iris-setosa'\n",
      " 'Iris-virginica' 'Iris-versicolor' 'Iris-virginica' 'Iris-virginica'\n",
      " 'Iris-virginica' 'Iris-versicolor' 'Iris-setosa' 'Iris-setosa'\n",
      " 'Iris-setosa' 'Iris-versicolor' 'Iris-versicolor' 'Iris-versicolor'\n",
      " 'Iris-setosa' 'Iris-virginica' 'Iris-versicolor' 'Iris-versicolor'\n",
      " 'Iris-virginica' 'Iris-versicolor' 'Iris-versicolor' 'Iris-setosa'\n",
      " 'Iris-virginica' 'Iris-setosa']\n"
     ]
    }
   ],
   "source": [
    "print(predictions)"
   ]
  },
  {
   "cell_type": "code",
   "execution_count": 20,
   "id": "64b70d7e",
   "metadata": {},
   "outputs": [],
   "source": [
    "from sklearn.metrics import accuracy_score, confusion_matrix"
   ]
  },
  {
   "cell_type": "code",
   "execution_count": 21,
   "id": "c2c17605",
   "metadata": {},
   "outputs": [
    {
     "data": {
      "text/plain": [
       "0.9333333333333333"
      ]
     },
     "execution_count": 21,
     "metadata": {},
     "output_type": "execute_result"
    }
   ],
   "source": [
    "accuracy_score(y_test, predictions)"
   ]
  },
  {
   "cell_type": "code",
   "execution_count": 22,
   "id": "09c05646",
   "metadata": {},
   "outputs": [
    {
     "data": {
      "text/plain": [
       "array([[10,  0,  0],\n",
       "       [ 0, 10,  0],\n",
       "       [ 0,  2,  8]], dtype=int64)"
      ]
     },
     "execution_count": 22,
     "metadata": {},
     "output_type": "execute_result"
    }
   ],
   "source": [
    "confusion_matrix(y_test, predictions)"
   ]
  },
  {
   "cell_type": "code",
   "execution_count": 23,
   "id": "78c41451",
   "metadata": {},
   "outputs": [
    {
     "data": {
      "text/plain": [
       "38         Iris-setosa\n",
       "127     Iris-virginica\n",
       "57     Iris-versicolor\n",
       "93     Iris-versicolor\n",
       "42         Iris-setosa\n",
       "56     Iris-versicolor\n",
       "22         Iris-setosa\n",
       "20         Iris-setosa\n",
       "147     Iris-virginica\n",
       "84     Iris-versicolor\n",
       "107     Iris-virginica\n",
       "141     Iris-virginica\n",
       "104     Iris-virginica\n",
       "51     Iris-versicolor\n",
       "7          Iris-setosa\n",
       "49         Iris-setosa\n",
       "14         Iris-setosa\n",
       "69     Iris-versicolor\n",
       "63     Iris-versicolor\n",
       "138     Iris-virginica\n",
       "10         Iris-setosa\n",
       "140     Iris-virginica\n",
       "58     Iris-versicolor\n",
       "134     Iris-virginica\n",
       "132     Iris-virginica\n",
       "77     Iris-versicolor\n",
       "75     Iris-versicolor\n",
       "18         Iris-setosa\n",
       "116     Iris-virginica\n",
       "28         Iris-setosa\n",
       "Name: Species, dtype: object"
      ]
     },
     "execution_count": 23,
     "metadata": {},
     "output_type": "execute_result"
    }
   ],
   "source": [
    "y_test"
   ]
  },
  {
   "cell_type": "markdown",
   "id": "b58fc41d",
   "metadata": {},
   "source": [
    "### Optimum value of k"
   ]
  },
  {
   "cell_type": "code",
   "execution_count": null,
   "id": "053a3450",
   "metadata": {},
   "outputs": [],
   "source": []
  },
  {
   "cell_type": "code",
   "execution_count": null,
   "id": "df7538e6",
   "metadata": {},
   "outputs": [],
   "source": []
  },
  {
   "cell_type": "code",
   "execution_count": null,
   "id": "b79fe40c",
   "metadata": {},
   "outputs": [],
   "source": []
  },
  {
   "cell_type": "code",
   "execution_count": null,
   "id": "5b9e310b",
   "metadata": {},
   "outputs": [],
   "source": []
  },
  {
   "cell_type": "code",
   "execution_count": null,
   "id": "a1422c9d",
   "metadata": {},
   "outputs": [],
   "source": []
  },
  {
   "cell_type": "markdown",
   "id": "e1ba4810",
   "metadata": {},
   "source": [
    "### KNN For Regression\n",
    "\n",
    "<li>Incase of regression, the process is same untill the prediction step.</li>\n",
    "<li>Like classification, we will first compute distance similarity metric for the new test data against all training data.</li>\n",
    "<li>Then, we will rank all these distance metrics and based on the value of k we will choose first k values with the lowest distance.</li>\n",
    "<li>Since our target value is continuous incase of regression so instead of predicting the class we need to predict a value.</li>\n",
    "<li>So, for regression, we will predict the average of the top k values and return it as a prediction.</li>\n",
    "\n",
    "![](images/knn_regressor.png)\n",
    "\n",
    "<li>As shown in the above figure, we predict the new data point by computing the average of the top k nearest values(3) in case of example.</li>"
   ]
  },
  {
   "cell_type": "code",
   "execution_count": null,
   "id": "624a2fc1",
   "metadata": {},
   "outputs": [],
   "source": []
  },
  {
   "cell_type": "code",
   "execution_count": null,
   "id": "a1ce76dc",
   "metadata": {},
   "outputs": [],
   "source": []
  },
  {
   "cell_type": "code",
   "execution_count": null,
   "id": "118bc1e9",
   "metadata": {},
   "outputs": [],
   "source": []
  },
  {
   "cell_type": "code",
   "execution_count": null,
   "id": "66988099",
   "metadata": {},
   "outputs": [],
   "source": []
  },
  {
   "cell_type": "code",
   "execution_count": null,
   "id": "2163d330",
   "metadata": {},
   "outputs": [],
   "source": []
  },
  {
   "cell_type": "code",
   "execution_count": null,
   "id": "4126d861",
   "metadata": {},
   "outputs": [],
   "source": []
  },
  {
   "cell_type": "code",
   "execution_count": null,
   "id": "df1757db",
   "metadata": {},
   "outputs": [],
   "source": []
  },
  {
   "cell_type": "markdown",
   "id": "6cd7534e",
   "metadata": {},
   "source": [
    "### Feature Scaling"
   ]
  },
  {
   "cell_type": "code",
   "execution_count": null,
   "id": "677f7c37",
   "metadata": {},
   "outputs": [],
   "source": []
  },
  {
   "cell_type": "code",
   "execution_count": null,
   "id": "db67001e",
   "metadata": {},
   "outputs": [],
   "source": []
  },
  {
   "cell_type": "code",
   "execution_count": null,
   "id": "0b5f64e3",
   "metadata": {},
   "outputs": [],
   "source": []
  },
  {
   "cell_type": "code",
   "execution_count": null,
   "id": "0d1821ea",
   "metadata": {},
   "outputs": [],
   "source": []
  },
  {
   "cell_type": "code",
   "execution_count": null,
   "id": "cdd9015c",
   "metadata": {},
   "outputs": [],
   "source": []
  },
  {
   "cell_type": "code",
   "execution_count": null,
   "id": "4d382c1a",
   "metadata": {},
   "outputs": [],
   "source": []
  },
  {
   "cell_type": "code",
   "execution_count": null,
   "id": "503e0bf7",
   "metadata": {},
   "outputs": [],
   "source": []
  },
  {
   "cell_type": "code",
   "execution_count": null,
   "id": "87710a67",
   "metadata": {},
   "outputs": [],
   "source": []
  },
  {
   "cell_type": "code",
   "execution_count": null,
   "id": "81bfabe9",
   "metadata": {},
   "outputs": [],
   "source": []
  },
  {
   "cell_type": "code",
   "execution_count": null,
   "id": "f185d545",
   "metadata": {},
   "outputs": [],
   "source": []
  },
  {
   "cell_type": "markdown",
   "id": "78701c2d",
   "metadata": {},
   "source": [
    "### Advantages Of KNN Algorithm\n",
    "\n",
    "\n",
    "<li>Simple to understand and easy to implement.</li>\n",
    "<li>Non-parametric model that does not make any assumptions about the underlying data distribution.</li>\n",
    "<li>Can be used for both classification and regression tasks.</li>\n",
    "<li>Works well with small datasets and noisy data.</li>\n",
    "<li>Does not require training time, as the algorithm only needs to store/memorize the training data.</li>\n"
   ]
  },
  {
   "cell_type": "markdown",
   "id": "a7c0a246",
   "metadata": {},
   "source": [
    "### Disadvantages of KNN algorithm:\n",
    "<li>Computationally expensive and slow, especially for large datasets.</li>\n",
    "<li>Requires a lot of memory to store the entire dataset.</li>\n",
    "<li>Sensitivity to the choice of the distance metric used to measure similarity between data points.</li>\n",
    "<li>KNN can be affected by the curse of dimensionality, where the performance decreases as the number of features increases.</li>\n",
    "<li>KNN is not effective for imbalanced datasets where the number of examples in each class is significantly different.</li>"
   ]
  },
  {
   "cell_type": "code",
   "execution_count": null,
   "id": "b2356a8c",
   "metadata": {},
   "outputs": [],
   "source": []
  },
  {
   "cell_type": "code",
   "execution_count": null,
   "id": "c63de6c9",
   "metadata": {},
   "outputs": [],
   "source": []
  },
  {
   "cell_type": "code",
   "execution_count": null,
   "id": "bc608222",
   "metadata": {},
   "outputs": [],
   "source": []
  },
  {
   "cell_type": "code",
   "execution_count": null,
   "id": "0119ddf5",
   "metadata": {},
   "outputs": [],
   "source": []
  },
  {
   "cell_type": "code",
   "execution_count": null,
   "id": "21f3e68f",
   "metadata": {},
   "outputs": [],
   "source": []
  }
 ],
 "metadata": {
  "kernelspec": {
   "display_name": "Python 3 (ipykernel)",
   "language": "python",
   "name": "python3"
  },
  "language_info": {
   "codemirror_mode": {
    "name": "ipython",
    "version": 3
   },
   "file_extension": ".py",
   "mimetype": "text/x-python",
   "name": "python",
   "nbconvert_exporter": "python",
   "pygments_lexer": "ipython3",
   "version": "3.8.0"
  }
 },
 "nbformat": 4,
 "nbformat_minor": 5
}
